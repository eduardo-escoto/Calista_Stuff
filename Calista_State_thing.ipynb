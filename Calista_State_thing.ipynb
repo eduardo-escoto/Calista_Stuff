{
 "cells": [
  {
   "cell_type": "markdown",
   "metadata": {},
   "source": [
    "## Filter States"
   ]
  },
  {
   "cell_type": "code",
   "execution_count": 1,
   "metadata": {},
   "outputs": [],
   "source": [
    "def state_string_cleaner(states, delim = \" \", as_list = True):\n",
    "    cleaned = sorted(states.lower().split(delim))\n",
    "    if as_list:\n",
    "        return cleaned\n",
    "    return \" \".join(cleaned)"
   ]
  },
  {
   "cell_type": "code",
   "execution_count": 2,
   "metadata": {},
   "outputs": [],
   "source": [
    "def state_splitter(states):\n",
    "    return set(states.split(\" \"))"
   ]
  },
  {
   "cell_type": "code",
   "execution_count": 3,
   "metadata": {},
   "outputs": [],
   "source": [
    "all_states = \"al ak ar az ca co ct dc de fl ga hi ia id il in ks ky la ma md me mi mn mo ms mt nc nd ne nh nj nm nv ny oh ok or pa ri sc sd tn tx ut vt va wa wi wv wy\"\n",
    "all_states_cleaned = state_string_cleaner(all_states, as_list = False)\n",
    "all_states_set = state_splitter(all_states_cleaned)"
   ]
  },
  {
   "cell_type": "code",
   "execution_count": 4,
   "metadata": {},
   "outputs": [
    {
     "data": {
      "text/plain": [
       "51"
      ]
     },
     "execution_count": 4,
     "metadata": {},
     "output_type": "execute_result"
    }
   ],
   "source": [
    "len(all_states_set)"
   ]
  },
  {
   "cell_type": "code",
   "execution_count": 5,
   "metadata": {},
   "outputs": [],
   "source": [
    "def state_filter(yes_states):\n",
    "    yes = state_splitter(yes_states)\n",
    "    no = all_states_set - yes\n",
    "    return state_string_cleaner(\" \".join(list(no)), as_list = False)"
   ]
  },
  {
   "cell_type": "code",
   "execution_count": 7,
   "metadata": {},
   "outputs": [],
   "source": [
    "def print_status(no, yes):\n",
    "    no_list = state_splitter(no)\n",
    "    yes_list = state_splitter(yes)\n",
    "    print(\"Yes Length: \", str(len(yes_list)))\n",
    "    print(\"No Length: \", str(len(no_list)))\n",
    "    print(\"Combined Length: \", str(len(no_list) + len(yes_list)))\n",
    "    print(\"Yes Filter:\", yes)\n",
    "    print(\"No Filter:\", no)"
   ]
  },
  {
   "cell_type": "markdown",
   "metadata": {},
   "source": [
    "## Filter 1"
   ]
  },
  {
   "cell_type": "code",
   "execution_count": 8,
   "metadata": {},
   "outputs": [
    {
     "name": "stdout",
     "output_type": "stream",
     "text": [
      "Yes Length:  30\n",
      "No Length:  21\n",
      "Combined Length:  51\n",
      "Yes Filter: al ar az ca ga ia id il in ks la md mn mo ms mt nc nd nv oh ok or ri sc sd tn ut wa wi wv\n",
      "No Filter: ak co ct dc de fl hi ky ma me mi ne nh nj nm ny pa tx va vt wy\n"
     ]
    }
   ],
   "source": [
    "yes = \"al ar az ca ga ia id il in ks la md mn mo ms mt nc nd nv ok oh or ri sc sd tn ut wa wi wv\"\n",
    "yes_cleaned = state_string_cleaner(yes, as_list = False)\n",
    "no_cleaned = state_filter(yes_cleaned)\n",
    "print_status(no_cleaned, yes_cleaned)"
   ]
  },
  {
   "cell_type": "markdown",
   "metadata": {},
   "source": [
    "## Filter 2"
   ]
  },
  {
   "cell_type": "code",
   "execution_count": 9,
   "metadata": {
    "scrolled": true
   },
   "outputs": [
    {
     "name": "stdout",
     "output_type": "stream",
     "text": [
      "Yes Length:  39\n",
      "No Length:  12\n",
      "Combined Length:  51\n",
      "Yes Filter: ak al az ca co dc de fl hi id il in ks ky la ma md me mi mn mo nc ne nh nj nm ny oh ok or pa sc tn ut va vt wa wi wv\n",
      "No Filter: ar ct ga ia ms mt nd nv ri sd tx wy\n"
     ]
    }
   ],
   "source": [
    "yes = \"al ak az ca co dc de fl hi id il in ks ky la ma md me mi mn mo nc ne nh nj nm ny oh ok or pa sc tn ut va vt wa wi wv\"\n",
    "yes_cleaned = state_string_cleaner(yes, as_list = False)\n",
    "no_cleaned = state_filter(yes_cleaned)\n",
    "print_status(no_cleaned, yes_cleaned)"
   ]
  },
  {
   "cell_type": "markdown",
   "metadata": {},
   "source": [
    "## Filter 3"
   ]
  },
  {
   "cell_type": "code",
   "execution_count": 10,
   "metadata": {
    "scrolled": true
   },
   "outputs": [
    {
     "name": "stdout",
     "output_type": "stream",
     "text": [
      "Yes Length:  24\n",
      "No Length:  27\n",
      "Combined Length:  51\n",
      "Yes Filter: ar dc de fl ga hi ia il ma md me mn mo ms mt nc nm nv or pa ri tn vt wv\n",
      "No Filter: ak al az ca co ct id in ks ky la mi nd ne nh nj ny oh ok sc sd tx ut va wa wi wy\n"
     ]
    }
   ],
   "source": [
    "yes = \"ar dc de fl ga hi ia il ma md me mn mo ms mt nc nm nv or pa ri tn vt wv\"\n",
    "yes_cleaned = state_string_cleaner(yes, as_list = False)\n",
    "no_cleaned = state_filter(yes_cleaned)\n",
    "print_status(no_cleaned, yes_cleaned)"
   ]
  },
  {
   "cell_type": "markdown",
   "metadata": {},
   "source": [
    "## Filter 4"
   ]
  },
  {
   "cell_type": "code",
   "execution_count": 11,
   "metadata": {
    "scrolled": true
   },
   "outputs": [
    {
     "name": "stdout",
     "output_type": "stream",
     "text": [
      "Yes Length:  37\n",
      "No Length:  14\n",
      "Combined Length:  51\n",
      "Yes Filter: al az ca co ct dc de fl ga hi ia id il in ky md me mn mo ms mt nc nd ne nj nm nv ny ok or pa ri sc tn ut va wi\n",
      "No Filter: ak ar ks la ma mi nh oh sd tx vt wa wv wy\n"
     ]
    }
   ],
   "source": [
    "yes = \"al az ca co ct dc de fl ga hi ia id il in ky md me mn mo ms mt nc nd ne nj nm nv ny ok or pa ri sc tn ut va wi\"\n",
    "yes_cleaned = state_string_cleaner(yes, as_list = False)\n",
    "no_cleaned = state_filter(yes_cleaned)\n",
    "print_status(no_cleaned, yes_cleaned)"
   ]
  },
  {
   "cell_type": "markdown",
   "metadata": {},
   "source": [
    "## Filter 5"
   ]
  },
  {
   "cell_type": "code",
   "execution_count": 13,
   "metadata": {
    "scrolled": true
   },
   "outputs": [
    {
     "name": "stdout",
     "output_type": "stream",
     "text": [
      "Yes Length:  23\n",
      "No Length:  28\n",
      "Combined Length:  51\n",
      "Yes Filter: ak al ar co de ga ia in ky mn nc nd ne nh oh ok pa sc sd ut va vt wv\n",
      "No Filter: az ca ct dc fl hi id il ks la ma md me mi mo ms mt nj nm nv ny or ri tn tx wa wi wy\n"
     ]
    }
   ],
   "source": [
    "yes = \"AL AK AR CO DE GA IN IA KY MN NE NH NC ND OH OK PA SC SD UT VT VA WV\"\n",
    "yes_cleaned = state_string_cleaner(yes, as_list = False)\n",
    "no_cleaned = state_filter(yes_cleaned)\n",
    "print_status(no_cleaned, yes_cleaned)"
   ]
  }
 ],
 "metadata": {
  "kernelspec": {
   "display_name": "Python 3",
   "language": "python",
   "name": "python3"
  },
  "language_info": {
   "codemirror_mode": {
    "name": "ipython",
    "version": 3
   },
   "file_extension": ".py",
   "mimetype": "text/x-python",
   "name": "python",
   "nbconvert_exporter": "python",
   "pygments_lexer": "ipython3",
   "version": "3.8.5"
  }
 },
 "nbformat": 4,
 "nbformat_minor": 4
}
